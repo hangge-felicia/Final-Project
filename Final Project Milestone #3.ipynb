{
 "cells": [
  {
   "cell_type": "markdown",
   "id": "bccf526c-e5e6-465e-a20b-75f7ba62a7c6",
   "metadata": {},
   "source": [
    "***\n",
    "# Final Project Milestone #3: Data Cleaning \n",
    "### Felicia Faith Hangge\n",
    "### 29 April 2025\n",
    "\n",
    "#### Analyzing Citi Bike usage trends in New York City to assist Citi Bike and their parent company Lyft make smarter bussiness decisions by providing insights on when, where, and how people use their bikes.  \n",
    "\n",
    "##### Data Source: https://citibikenyc.com/system-data (202410-citibike-tripdata_1.csv)\n",
    "\n",
    "***"
   ]
  },
  {
   "cell_type": "markdown",
   "id": "64f2c3ca-3356-43b6-8112-7e83438c55e3",
   "metadata": {},
   "source": [
    "## 1.) Importing Dataset + Libraries \n",
    "***"
   ]
  },
  {
   "cell_type": "code",
   "execution_count": 7,
   "id": "5056b5b1-ff80-449a-bce9-e30c294f25e0",
   "metadata": {},
   "outputs": [],
   "source": [
    "import pandas as pd"
   ]
  },
  {
   "cell_type": "code",
   "execution_count": 9,
   "id": "d44bb7d5-1e75-4464-b531-eea318ce1aa5",
   "metadata": {},
   "outputs": [
    {
     "name": "stderr",
     "output_type": "stream",
     "text": [
      "/var/folders/6t/l24_hh0d7rddqfw4j3qphcfw0000gn/T/ipykernel_19004/1791134792.py:2: DtypeWarning: Columns (5,7) have mixed types. Specify dtype option on import or set low_memory=False.\n",
      "  df = pd.read_csv('/Users/faitth/Desktop/CMP-262/Final Project/202410-citibike-tripdata_1.csv')\n"
     ]
    }
   ],
   "source": [
    "file_path = \"202410-citibike-tripdata_1.csv\"\n",
    "df = pd.read_csv('/Users/faitth/Desktop/CMP-262/Final Project/202410-citibike-tripdata_1.csv')"
   ]
  },
  {
   "cell_type": "code",
   "execution_count": 79,
   "id": "4ae6a0e7-2db8-4c05-954d-6267dd0256cd",
   "metadata": {},
   "outputs": [],
   "source": [
    "dt_fix = {\n",
    "    'start_station_id': 'str',\n",
    "    'end_station_id': 'str' }\n",
    "file_path = \"202410-citibike-tripdata_1.csv\"\n",
    "df = pd.read_csv('/Users/faitth/Desktop/CMP-262/Final Project/202410-citibike-tripdata_1.csv',\n",
    "                dtype = dt_fix,\n",
    "                low_memory=False)"
   ]
  },
  {
   "cell_type": "code",
   "execution_count": 80,
   "id": "156cc39b-8aac-4eed-baf3-cd36ff650029",
   "metadata": {},
   "outputs": [
    {
     "data": {
      "text/plain": [
       "(1000000, 13)"
      ]
     },
     "execution_count": 80,
     "metadata": {},
     "output_type": "execute_result"
    }
   ],
   "source": [
    "df.shape "
   ]
  },
  {
   "cell_type": "markdown",
   "id": "5595bd45-befb-459a-9b06-3a5e1483bb03",
   "metadata": {},
   "source": [
    "## 1.) Fixing Column Names + Formatting \n",
    "***"
   ]
  },
  {
   "cell_type": "markdown",
   "id": "cc862545-66e4-49ed-a704-83ad2d2290dd",
   "metadata": {},
   "source": [
    "#### Renaming columns for easier use "
   ]
  },
  {
   "cell_type": "code",
   "execution_count": 85,
   "id": "9865ab03-a3c0-4189-b65c-0459c1e3a854",
   "metadata": {},
   "outputs": [],
   "source": [
    "df.rename(columns={\n",
    "    'ride_id': 'RideID',\n",
    "    'rideable_type': 'BikeType',\n",
    "    'started_at': 'StartTime',\n",
    "    'ended_at': 'EndTime',\n",
    "    'start_station_name': 'StartStation',\n",
    "    'start_station_id': 'StartStationID',\n",
    "    'end_station_name': 'EndStation',\n",
    "    'end_station_id': 'EndStationID',\n",
    "    'start_lat': 'StartLat',\n",
    "    'start_lng': 'StartLng',\n",
    "    'end_lat': 'EndLat',\n",
    "    'end_lng': 'EndLng',\n",
    "    'member_casual': 'UserType' }, \n",
    "          inplace=True)"
   ]
  },
  {
   "cell_type": "code",
   "execution_count": 87,
   "id": "85cc3eee-3ffe-4d2a-8609-161a53b7325d",
   "metadata": {},
   "outputs": [
    {
     "data": {
      "text/plain": [
       "Index(['RideID', 'BikeType', 'StartTime', 'EndTime', 'StartStation',\n",
       "       'StartStationID', 'EndStation', 'EndStationID', 'StartLat', 'StartLng',\n",
       "       'EndLat', 'EndLng', 'UserType'],\n",
       "      dtype='object')"
      ]
     },
     "execution_count": 87,
     "metadata": {},
     "output_type": "execute_result"
    }
   ],
   "source": [
    "df.columns"
   ]
  },
  {
   "cell_type": "markdown",
   "id": "6dab0172-360d-4619-8c4f-fef621d12675",
   "metadata": {},
   "source": [
    "## 2.) Investigating Missing Values (NaNs) \n",
    "***"
   ]
  },
  {
   "cell_type": "markdown",
   "id": "f590ad39-08cc-4a4d-8505-da1ed70d21a4",
   "metadata": {},
   "source": [
    "#### Counting missing values per column "
   ]
  },
  {
   "cell_type": "code",
   "execution_count": 92,
   "id": "b0571e2d-b3d0-4df1-9351-330a49f7498f",
   "metadata": {},
   "outputs": [
    {
     "data": {
      "text/plain": [
       "RideID               0\n",
       "BikeType             0\n",
       "StartTime            0\n",
       "EndTime              0\n",
       "StartStation       283\n",
       "StartStationID     283\n",
       "EndStation        1341\n",
       "EndStationID      1460\n",
       "StartLat             0\n",
       "StartLng             0\n",
       "EndLat             104\n",
       "EndLng             104\n",
       "UserType             0\n",
       "dtype: int64"
      ]
     },
     "execution_count": 92,
     "metadata": {},
     "output_type": "execute_result"
    }
   ],
   "source": [
    "df.isnull().sum()"
   ]
  },
  {
   "cell_type": "markdown",
   "id": "d98c9a27-d271-44f6-975d-69b271e530f9",
   "metadata": {},
   "source": [
    "#### Should these be replaced or deleted? \n",
    "##### No, these columns are needed to calculate the starting and ending points of trips but since the amount of NaN values is very small compared to the total dataset (1,460 / 1,000,000 = .146% of all data) it would be safe to remove the rows with NaN values instead of replace them with other values that can skew analysis. "
   ]
  },
  {
   "cell_type": "markdown",
   "id": "58dee51d-ca15-47ff-be06-8472210b58c3",
   "metadata": {},
   "source": [
    "#### Dropping rows with NaN values "
   ]
  },
  {
   "cell_type": "code",
   "execution_count": 102,
   "id": "b736cb97-8b44-4f58-81e8-4707442de9c9",
   "metadata": {},
   "outputs": [],
   "source": [
    "df.dropna(subset =[\n",
    "    'StartStation', \n",
    "    'StartStationID',\n",
    "    'EndStation',\n",
    "    'EndStationID',\n",
    "    'EndLat',\n",
    "    'EndLng' ],\n",
    "          inplace = True)"
   ]
  },
  {
   "cell_type": "code",
   "execution_count": 67,
   "id": "1778e6d8-17f1-4cb8-af87-18563e9b40c7",
   "metadata": {},
   "outputs": [
    {
     "data": {
      "text/plain": [
       "RideID            0\n",
       "BikeType          0\n",
       "StartTime         0\n",
       "EndTime           0\n",
       "StartStation      0\n",
       "StartStationID    0\n",
       "EndStation        0\n",
       "EndStationID      0\n",
       "StartLat          0\n",
       "StartLng          0\n",
       "EndLat            0\n",
       "EndLng            0\n",
       "UserType          0\n",
       "dtype: int64"
      ]
     },
     "execution_count": 67,
     "metadata": {},
     "output_type": "execute_result"
    }
   ],
   "source": [
    "df.isnull().sum()"
   ]
  },
  {
   "cell_type": "markdown",
   "id": "bc03c3c2-4d0d-4f62-b662-738caba488a1",
   "metadata": {},
   "source": [
    "***\n",
    "## 3.) Assessing Outliers \n",
    "***"
   ]
  },
  {
   "cell_type": "code",
   "execution_count": 52,
   "id": "afc4ebfb-572b-41a8-a3a9-bb4bb5f36f90",
   "metadata": {},
   "outputs": [
    {
     "data": {
      "text/html": [
       "<div>\n",
       "<style scoped>\n",
       "    .dataframe tbody tr th:only-of-type {\n",
       "        vertical-align: middle;\n",
       "    }\n",
       "\n",
       "    .dataframe tbody tr th {\n",
       "        vertical-align: top;\n",
       "    }\n",
       "\n",
       "    .dataframe thead th {\n",
       "        text-align: right;\n",
       "    }\n",
       "</style>\n",
       "<table border=\"1\" class=\"dataframe\">\n",
       "  <thead>\n",
       "    <tr style=\"text-align: right;\">\n",
       "      <th></th>\n",
       "      <th>StartLat</th>\n",
       "      <th>StartLng</th>\n",
       "      <th>EndLat</th>\n",
       "      <th>EndLng</th>\n",
       "    </tr>\n",
       "  </thead>\n",
       "  <tbody>\n",
       "    <tr>\n",
       "      <th>count</th>\n",
       "      <td>998262.000000</td>\n",
       "      <td>998262.000000</td>\n",
       "      <td>998262.000000</td>\n",
       "      <td>998262.000000</td>\n",
       "    </tr>\n",
       "    <tr>\n",
       "      <th>mean</th>\n",
       "      <td>40.737541</td>\n",
       "      <td>-73.971116</td>\n",
       "      <td>40.736877</td>\n",
       "      <td>-73.969972</td>\n",
       "    </tr>\n",
       "    <tr>\n",
       "      <th>std</th>\n",
       "      <td>0.041185</td>\n",
       "      <td>0.029430</td>\n",
       "      <td>0.163222</td>\n",
       "      <td>0.288246</td>\n",
       "    </tr>\n",
       "    <tr>\n",
       "      <th>min</th>\n",
       "      <td>40.633385</td>\n",
       "      <td>-74.026823</td>\n",
       "      <td>0.000000</td>\n",
       "      <td>-74.067622</td>\n",
       "    </tr>\n",
       "    <tr>\n",
       "      <th>25%</th>\n",
       "      <td>40.711863</td>\n",
       "      <td>-73.991930</td>\n",
       "      <td>40.711066</td>\n",
       "      <td>-73.992085</td>\n",
       "    </tr>\n",
       "    <tr>\n",
       "      <th>50%</th>\n",
       "      <td>40.736592</td>\n",
       "      <td>-73.979069</td>\n",
       "      <td>40.736245</td>\n",
       "      <td>-73.979294</td>\n",
       "    </tr>\n",
       "    <tr>\n",
       "      <th>75%</th>\n",
       "      <td>40.761573</td>\n",
       "      <td>-73.954692</td>\n",
       "      <td>40.761712</td>\n",
       "      <td>-73.954926</td>\n",
       "    </tr>\n",
       "    <tr>\n",
       "      <th>max</th>\n",
       "      <td>40.886300</td>\n",
       "      <td>-73.846720</td>\n",
       "      <td>40.886300</td>\n",
       "      <td>0.000000</td>\n",
       "    </tr>\n",
       "  </tbody>\n",
       "</table>\n",
       "</div>"
      ],
      "text/plain": [
       "            StartLat       StartLng         EndLat         EndLng\n",
       "count  998262.000000  998262.000000  998262.000000  998262.000000\n",
       "mean       40.737541     -73.971116      40.736877     -73.969972\n",
       "std         0.041185       0.029430       0.163222       0.288246\n",
       "min        40.633385     -74.026823       0.000000     -74.067622\n",
       "25%        40.711863     -73.991930      40.711066     -73.992085\n",
       "50%        40.736592     -73.979069      40.736245     -73.979294\n",
       "75%        40.761573     -73.954692      40.761712     -73.954926\n",
       "max        40.886300     -73.846720      40.886300       0.000000"
      ]
     },
     "execution_count": 52,
     "metadata": {},
     "output_type": "execute_result"
    }
   ],
   "source": [
    "df.describe()"
   ]
  },
  {
   "cell_type": "markdown",
   "id": "7f89c996-bca0-4f30-bb54-11964735949c",
   "metadata": {},
   "source": [
    "#### Cleaning invalid coordinate data\n",
    "##### While looking at the statistical summaries for the columns, there are clear outliers in the EndLat and EndLng columns where the values are 0, which is not a valid location. These columns contain values that represent the latitude and longitude coordinates of each ride, since the coordinates (0,0) are obviously not in New York City, they are invalid when dealing with Citi Bike Trips."
   ]
  },
  {
   "cell_type": "markdown",
   "id": "0e588788-332b-4859-b4d1-d33c1137cae5",
   "metadata": {},
   "source": [
    "#### Removing any rows where values for StartLat, StartLng, EndLat, and EndLng are equal to 0."
   ]
  },
  {
   "cell_type": "code",
   "execution_count": 105,
   "id": "2b47705e-331a-4f40-af5a-ed23f92707e3",
   "metadata": {},
   "outputs": [],
   "source": [
    "df = df[(df['StartLat'] != 0) & (df['StartLng'] != 0) &\n",
    "        (df['EndLat'] != 0) & (df['EndLng'] != 0)]"
   ]
  },
  {
   "cell_type": "code",
   "execution_count": 107,
   "id": "d9a97dda-9725-49e0-9f68-b3fc7c0cb0fb",
   "metadata": {},
   "outputs": [
    {
     "data": {
      "text/html": [
       "<div>\n",
       "<style scoped>\n",
       "    .dataframe tbody tr th:only-of-type {\n",
       "        vertical-align: middle;\n",
       "    }\n",
       "\n",
       "    .dataframe tbody tr th {\n",
       "        vertical-align: top;\n",
       "    }\n",
       "\n",
       "    .dataframe thead th {\n",
       "        text-align: right;\n",
       "    }\n",
       "</style>\n",
       "<table border=\"1\" class=\"dataframe\">\n",
       "  <thead>\n",
       "    <tr style=\"text-align: right;\">\n",
       "      <th></th>\n",
       "      <th>StartLat</th>\n",
       "      <th>StartLng</th>\n",
       "      <th>EndLat</th>\n",
       "      <th>EndLng</th>\n",
       "    </tr>\n",
       "  </thead>\n",
       "  <tbody>\n",
       "    <tr>\n",
       "      <th>count</th>\n",
       "      <td>998247.000000</td>\n",
       "      <td>998247.000000</td>\n",
       "      <td>998247.000000</td>\n",
       "      <td>998247.000000</td>\n",
       "    </tr>\n",
       "    <tr>\n",
       "      <th>mean</th>\n",
       "      <td>40.737541</td>\n",
       "      <td>-73.971117</td>\n",
       "      <td>40.737489</td>\n",
       "      <td>-73.971083</td>\n",
       "    </tr>\n",
       "    <tr>\n",
       "      <th>std</th>\n",
       "      <td>0.041185</td>\n",
       "      <td>0.029429</td>\n",
       "      <td>0.041296</td>\n",
       "      <td>0.029463</td>\n",
       "    </tr>\n",
       "    <tr>\n",
       "      <th>min</th>\n",
       "      <td>40.633385</td>\n",
       "      <td>-74.026823</td>\n",
       "      <td>40.633385</td>\n",
       "      <td>-74.067622</td>\n",
       "    </tr>\n",
       "    <tr>\n",
       "      <th>25%</th>\n",
       "      <td>40.711863</td>\n",
       "      <td>-73.991930</td>\n",
       "      <td>40.711066</td>\n",
       "      <td>-73.992085</td>\n",
       "    </tr>\n",
       "    <tr>\n",
       "      <th>50%</th>\n",
       "      <td>40.736592</td>\n",
       "      <td>-73.979069</td>\n",
       "      <td>40.736245</td>\n",
       "      <td>-73.979294</td>\n",
       "    </tr>\n",
       "    <tr>\n",
       "      <th>75%</th>\n",
       "      <td>40.761573</td>\n",
       "      <td>-73.954692</td>\n",
       "      <td>40.761712</td>\n",
       "      <td>-73.954926</td>\n",
       "    </tr>\n",
       "    <tr>\n",
       "      <th>max</th>\n",
       "      <td>40.886300</td>\n",
       "      <td>-73.846720</td>\n",
       "      <td>40.886300</td>\n",
       "      <td>-73.846720</td>\n",
       "    </tr>\n",
       "  </tbody>\n",
       "</table>\n",
       "</div>"
      ],
      "text/plain": [
       "            StartLat       StartLng         EndLat         EndLng\n",
       "count  998247.000000  998247.000000  998247.000000  998247.000000\n",
       "mean       40.737541     -73.971117      40.737489     -73.971083\n",
       "std         0.041185       0.029429       0.041296       0.029463\n",
       "min        40.633385     -74.026823      40.633385     -74.067622\n",
       "25%        40.711863     -73.991930      40.711066     -73.992085\n",
       "50%        40.736592     -73.979069      40.736245     -73.979294\n",
       "75%        40.761573     -73.954692      40.761712     -73.954926\n",
       "max        40.886300     -73.846720      40.886300     -73.846720"
      ]
     },
     "execution_count": 107,
     "metadata": {},
     "output_type": "execute_result"
    }
   ],
   "source": [
    "df.describe()"
   ]
  },
  {
   "cell_type": "markdown",
   "id": "05dec818-f59d-4367-b781-7291b24fa08d",
   "metadata": {},
   "source": [
    "#### Cleaning invalid ride data\n",
    "##### To easier analyze the behavior of riders, I created a new column titled RideDurationMin to measure the total duration of each trip in minutes."
   ]
  },
  {
   "cell_type": "markdown",
   "id": "780e5be4-6f32-4829-9f34-7d860985610c",
   "metadata": {},
   "source": [
    "##### Convert StartTime and EndTime from string to datetime in order to perform calculations"
   ]
  },
  {
   "cell_type": "code",
   "execution_count": 116,
   "id": "dde8663d-66f6-432b-a6ab-1800b670cb23",
   "metadata": {},
   "outputs": [],
   "source": [
    "df['StartTime'] = pd.to_datetime(df['StartTime'])\n",
    "df['EndTime'] = pd.to_datetime(df['EndTime'])"
   ]
  },
  {
   "cell_type": "markdown",
   "id": "37823395-431b-4cf5-b624-255dd018bbba",
   "metadata": {},
   "source": [
    "##### Create new column "
   ]
  },
  {
   "cell_type": "code",
   "execution_count": 118,
   "id": "0452c797-98f9-480c-b3ec-3810177c3ef1",
   "metadata": {},
   "outputs": [],
   "source": [
    "df['RideDurationMin'] = (df['EndTime'] - df['StartTime']).dt.total_seconds() / 60"
   ]
  },
  {
   "cell_type": "code",
   "execution_count": 122,
   "id": "791348d7-b78b-4917-96e7-a5d14d46857d",
   "metadata": {},
   "outputs": [
    {
     "data": {
      "text/html": [
       "<div>\n",
       "<style scoped>\n",
       "    .dataframe tbody tr th:only-of-type {\n",
       "        vertical-align: middle;\n",
       "    }\n",
       "\n",
       "    .dataframe tbody tr th {\n",
       "        vertical-align: top;\n",
       "    }\n",
       "\n",
       "    .dataframe thead th {\n",
       "        text-align: right;\n",
       "    }\n",
       "</style>\n",
       "<table border=\"1\" class=\"dataframe\">\n",
       "  <thead>\n",
       "    <tr style=\"text-align: right;\">\n",
       "      <th></th>\n",
       "      <th>RideID</th>\n",
       "      <th>BikeType</th>\n",
       "      <th>StartTime</th>\n",
       "      <th>EndTime</th>\n",
       "      <th>StartStation</th>\n",
       "      <th>StartStationID</th>\n",
       "      <th>EndStation</th>\n",
       "      <th>EndStationID</th>\n",
       "      <th>StartLat</th>\n",
       "      <th>StartLng</th>\n",
       "      <th>EndLat</th>\n",
       "      <th>EndLng</th>\n",
       "      <th>UserType</th>\n",
       "      <th>RideDurationMin</th>\n",
       "    </tr>\n",
       "  </thead>\n",
       "  <tbody>\n",
       "    <tr>\n",
       "      <th>325831</th>\n",
       "      <td>E8672D08A2774BE6</td>\n",
       "      <td>electric_bike</td>\n",
       "      <td>2024-10-01 14:49:15.390</td>\n",
       "      <td>2024-10-01 15:09:41.256</td>\n",
       "      <td>E 17 St &amp; Broadway</td>\n",
       "      <td>5980.10</td>\n",
       "      <td>E 82 St &amp; East End Ave</td>\n",
       "      <td>7049.04</td>\n",
       "      <td>40.737006</td>\n",
       "      <td>-73.990134</td>\n",
       "      <td>40.772461</td>\n",
       "      <td>-73.946821</td>\n",
       "      <td>member</td>\n",
       "      <td>20.4311</td>\n",
       "    </tr>\n",
       "  </tbody>\n",
       "</table>\n",
       "</div>"
      ],
      "text/plain": [
       "                  RideID       BikeType               StartTime  \\\n",
       "325831  E8672D08A2774BE6  electric_bike 2024-10-01 14:49:15.390   \n",
       "\n",
       "                       EndTime        StartStation StartStationID  \\\n",
       "325831 2024-10-01 15:09:41.256  E 17 St & Broadway        5980.10   \n",
       "\n",
       "                    EndStation EndStationID   StartLat   StartLng     EndLat  \\\n",
       "325831  E 82 St & East End Ave      7049.04  40.737006 -73.990134  40.772461   \n",
       "\n",
       "           EndLng UserType  RideDurationMin  \n",
       "325831 -73.946821   member          20.4311  "
      ]
     },
     "execution_count": 122,
     "metadata": {},
     "output_type": "execute_result"
    }
   ],
   "source": [
    "df.sample(1)"
   ]
  },
  {
   "cell_type": "markdown",
   "id": "fb577407-7ae0-4566-8693-3262622d7160",
   "metadata": {},
   "source": [
    "#### Checking for outliers in RideDurationMin"
   ]
  },
  {
   "cell_type": "code",
   "execution_count": 140,
   "id": "90a674cc-5d58-467d-a520-f8d9b90d17c0",
   "metadata": {},
   "outputs": [
    {
     "data": {
      "text/html": [
       "<div>\n",
       "<style scoped>\n",
       "    .dataframe tbody tr th:only-of-type {\n",
       "        vertical-align: middle;\n",
       "    }\n",
       "\n",
       "    .dataframe tbody tr th {\n",
       "        vertical-align: top;\n",
       "    }\n",
       "\n",
       "    .dataframe thead th {\n",
       "        text-align: right;\n",
       "    }\n",
       "</style>\n",
       "<table border=\"1\" class=\"dataframe\">\n",
       "  <thead>\n",
       "    <tr style=\"text-align: right;\">\n",
       "      <th></th>\n",
       "      <th>StartTime</th>\n",
       "      <th>EndTime</th>\n",
       "      <th>StartLat</th>\n",
       "      <th>StartLng</th>\n",
       "      <th>EndLat</th>\n",
       "      <th>EndLng</th>\n",
       "      <th>RideDurationMin</th>\n",
       "    </tr>\n",
       "  </thead>\n",
       "  <tbody>\n",
       "    <tr>\n",
       "      <th>count</th>\n",
       "      <td>998247</td>\n",
       "      <td>998247</td>\n",
       "      <td>998247.000000</td>\n",
       "      <td>998247.000000</td>\n",
       "      <td>998247.000000</td>\n",
       "      <td>998247.000000</td>\n",
       "      <td>998247.000000</td>\n",
       "    </tr>\n",
       "    <tr>\n",
       "      <th>mean</th>\n",
       "      <td>2024-10-07 21:24:13.362079744</td>\n",
       "      <td>2024-10-07 21:37:19.909940224</td>\n",
       "      <td>40.737541</td>\n",
       "      <td>-73.971117</td>\n",
       "      <td>40.737489</td>\n",
       "      <td>-73.971083</td>\n",
       "      <td>13.109131</td>\n",
       "    </tr>\n",
       "    <tr>\n",
       "      <th>min</th>\n",
       "      <td>2024-09-30 11:05:33.619000</td>\n",
       "      <td>2024-10-01 00:00:02.702000</td>\n",
       "      <td>40.633385</td>\n",
       "      <td>-74.026823</td>\n",
       "      <td>40.633385</td>\n",
       "      <td>-74.067622</td>\n",
       "      <td>1.001233</td>\n",
       "    </tr>\n",
       "    <tr>\n",
       "      <th>25%</th>\n",
       "      <td>2024-10-04 13:21:48.310999808</td>\n",
       "      <td>2024-10-04 13:34:38.769499904</td>\n",
       "      <td>40.711863</td>\n",
       "      <td>-73.991930</td>\n",
       "      <td>40.711066</td>\n",
       "      <td>-73.992085</td>\n",
       "      <td>5.379808</td>\n",
       "    </tr>\n",
       "    <tr>\n",
       "      <th>50%</th>\n",
       "      <td>2024-10-07 18:48:17.024000</td>\n",
       "      <td>2024-10-07 19:00:55.156000</td>\n",
       "      <td>40.736592</td>\n",
       "      <td>-73.979069</td>\n",
       "      <td>40.736245</td>\n",
       "      <td>-73.979294</td>\n",
       "      <td>9.339333</td>\n",
       "    </tr>\n",
       "    <tr>\n",
       "      <th>75%</th>\n",
       "      <td>2024-10-11 09:19:21.993499904</td>\n",
       "      <td>2024-10-11 09:30:53.420499968</td>\n",
       "      <td>40.761573</td>\n",
       "      <td>-73.954692</td>\n",
       "      <td>40.761712</td>\n",
       "      <td>-73.954926</td>\n",
       "      <td>16.160150</td>\n",
       "    </tr>\n",
       "    <tr>\n",
       "      <th>max</th>\n",
       "      <td>2024-10-14 19:59:59.570000</td>\n",
       "      <td>2024-10-15 13:37:17.976000</td>\n",
       "      <td>40.886300</td>\n",
       "      <td>-73.846720</td>\n",
       "      <td>40.886300</td>\n",
       "      <td>-73.846720</td>\n",
       "      <td>1498.964883</td>\n",
       "    </tr>\n",
       "    <tr>\n",
       "      <th>std</th>\n",
       "      <td>NaN</td>\n",
       "      <td>NaN</td>\n",
       "      <td>0.041185</td>\n",
       "      <td>0.029429</td>\n",
       "      <td>0.041296</td>\n",
       "      <td>0.029463</td>\n",
       "      <td>19.188829</td>\n",
       "    </tr>\n",
       "  </tbody>\n",
       "</table>\n",
       "</div>"
      ],
      "text/plain": [
       "                           StartTime                        EndTime  \\\n",
       "count                         998247                         998247   \n",
       "mean   2024-10-07 21:24:13.362079744  2024-10-07 21:37:19.909940224   \n",
       "min       2024-09-30 11:05:33.619000     2024-10-01 00:00:02.702000   \n",
       "25%    2024-10-04 13:21:48.310999808  2024-10-04 13:34:38.769499904   \n",
       "50%       2024-10-07 18:48:17.024000     2024-10-07 19:00:55.156000   \n",
       "75%    2024-10-11 09:19:21.993499904  2024-10-11 09:30:53.420499968   \n",
       "max       2024-10-14 19:59:59.570000     2024-10-15 13:37:17.976000   \n",
       "std                              NaN                            NaN   \n",
       "\n",
       "            StartLat       StartLng         EndLat         EndLng  \\\n",
       "count  998247.000000  998247.000000  998247.000000  998247.000000   \n",
       "mean       40.737541     -73.971117      40.737489     -73.971083   \n",
       "min        40.633385     -74.026823      40.633385     -74.067622   \n",
       "25%        40.711863     -73.991930      40.711066     -73.992085   \n",
       "50%        40.736592     -73.979069      40.736245     -73.979294   \n",
       "75%        40.761573     -73.954692      40.761712     -73.954926   \n",
       "max        40.886300     -73.846720      40.886300     -73.846720   \n",
       "std         0.041185       0.029429       0.041296       0.029463   \n",
       "\n",
       "       RideDurationMin  \n",
       "count    998247.000000  \n",
       "mean         13.109131  \n",
       "min           1.001233  \n",
       "25%           5.379808  \n",
       "50%           9.339333  \n",
       "75%          16.160150  \n",
       "max        1498.964883  \n",
       "std          19.188829  "
      ]
     },
     "execution_count": 140,
     "metadata": {},
     "output_type": "execute_result"
    }
   ],
   "source": [
    "df.describe()"
   ]
  },
  {
   "cell_type": "markdown",
   "id": "b2ab6787-3f8a-472a-8e9a-7b3c31370af1",
   "metadata": {},
   "source": [
    "##### Removing any rides that are unusually short (under 2 minutes) or long (longer than 6 hours = 360 minutes) "
   ]
  },
  {
   "cell_type": "code",
   "execution_count": 164,
   "id": "0fc29eed-ee29-41e7-9127-219d5b9d3df8",
   "metadata": {},
   "outputs": [],
   "source": [
    "df = df[(df['RideDurationMin'] >= 2) & (df['RideDurationMin'] <= 360)]"
   ]
  },
  {
   "cell_type": "code",
   "execution_count": 166,
   "id": "dafce381-9f32-4145-810c-64cc16f02bb9",
   "metadata": {},
   "outputs": [
    {
     "data": {
      "text/html": [
       "<div>\n",
       "<style scoped>\n",
       "    .dataframe tbody tr th:only-of-type {\n",
       "        vertical-align: middle;\n",
       "    }\n",
       "\n",
       "    .dataframe tbody tr th {\n",
       "        vertical-align: top;\n",
       "    }\n",
       "\n",
       "    .dataframe thead th {\n",
       "        text-align: right;\n",
       "    }\n",
       "</style>\n",
       "<table border=\"1\" class=\"dataframe\">\n",
       "  <thead>\n",
       "    <tr style=\"text-align: right;\">\n",
       "      <th></th>\n",
       "      <th>StartTime</th>\n",
       "      <th>EndTime</th>\n",
       "      <th>StartLat</th>\n",
       "      <th>StartLng</th>\n",
       "      <th>EndLat</th>\n",
       "      <th>EndLng</th>\n",
       "      <th>RideDurationMin</th>\n",
       "    </tr>\n",
       "  </thead>\n",
       "  <tbody>\n",
       "    <tr>\n",
       "      <th>count</th>\n",
       "      <td>914351</td>\n",
       "      <td>914351</td>\n",
       "      <td>914351.000000</td>\n",
       "      <td>914351.000000</td>\n",
       "      <td>914351.000000</td>\n",
       "      <td>914351.000000</td>\n",
       "      <td>914351.000000</td>\n",
       "    </tr>\n",
       "    <tr>\n",
       "      <th>mean</th>\n",
       "      <td>2024-10-07 21:27:45.422510592</td>\n",
       "      <td>2024-10-07 21:41:36.470227968</td>\n",
       "      <td>40.737293</td>\n",
       "      <td>-73.971545</td>\n",
       "      <td>40.737232</td>\n",
       "      <td>-73.971505</td>\n",
       "      <td>13.850795</td>\n",
       "    </tr>\n",
       "    <tr>\n",
       "      <th>min</th>\n",
       "      <td>2024-09-30 18:56:30.485000</td>\n",
       "      <td>2024-10-01 00:00:02.702000</td>\n",
       "      <td>40.633385</td>\n",
       "      <td>-74.026823</td>\n",
       "      <td>40.633385</td>\n",
       "      <td>-74.067622</td>\n",
       "      <td>3.000000</td>\n",
       "    </tr>\n",
       "    <tr>\n",
       "      <th>25%</th>\n",
       "      <td>2024-10-04 13:37:46.984499968</td>\n",
       "      <td>2024-10-04 13:52:27.494000128</td>\n",
       "      <td>40.711863</td>\n",
       "      <td>-73.992031</td>\n",
       "      <td>40.710709</td>\n",
       "      <td>-73.992131</td>\n",
       "      <td>6.262817</td>\n",
       "    </tr>\n",
       "    <tr>\n",
       "      <th>50%</th>\n",
       "      <td>2024-10-07 18:42:53.550000128</td>\n",
       "      <td>2024-10-07 18:56:17.372999936</td>\n",
       "      <td>40.736529</td>\n",
       "      <td>-73.979069</td>\n",
       "      <td>40.735877</td>\n",
       "      <td>-73.979504</td>\n",
       "      <td>10.169633</td>\n",
       "    </tr>\n",
       "    <tr>\n",
       "      <th>75%</th>\n",
       "      <td>2024-10-11 09:40:16.659500032</td>\n",
       "      <td>2024-10-11 09:52:20.680999936</td>\n",
       "      <td>40.761294</td>\n",
       "      <td>-73.955156</td>\n",
       "      <td>40.761712</td>\n",
       "      <td>-73.955637</td>\n",
       "      <td>17.048033</td>\n",
       "    </tr>\n",
       "    <tr>\n",
       "      <th>max</th>\n",
       "      <td>2024-10-14 19:59:59.570000</td>\n",
       "      <td>2024-10-14 22:27:45.848000</td>\n",
       "      <td>40.886300</td>\n",
       "      <td>-73.846720</td>\n",
       "      <td>40.886300</td>\n",
       "      <td>-73.846720</td>\n",
       "      <td>356.487733</td>\n",
       "    </tr>\n",
       "    <tr>\n",
       "      <th>std</th>\n",
       "      <td>NaN</td>\n",
       "      <td>NaN</td>\n",
       "      <td>0.040808</td>\n",
       "      <td>0.029127</td>\n",
       "      <td>0.040934</td>\n",
       "      <td>0.029169</td>\n",
       "      <td>13.311635</td>\n",
       "    </tr>\n",
       "  </tbody>\n",
       "</table>\n",
       "</div>"
      ],
      "text/plain": [
       "                           StartTime                        EndTime  \\\n",
       "count                         914351                         914351   \n",
       "mean   2024-10-07 21:27:45.422510592  2024-10-07 21:41:36.470227968   \n",
       "min       2024-09-30 18:56:30.485000     2024-10-01 00:00:02.702000   \n",
       "25%    2024-10-04 13:37:46.984499968  2024-10-04 13:52:27.494000128   \n",
       "50%    2024-10-07 18:42:53.550000128  2024-10-07 18:56:17.372999936   \n",
       "75%    2024-10-11 09:40:16.659500032  2024-10-11 09:52:20.680999936   \n",
       "max       2024-10-14 19:59:59.570000     2024-10-14 22:27:45.848000   \n",
       "std                              NaN                            NaN   \n",
       "\n",
       "            StartLat       StartLng         EndLat         EndLng  \\\n",
       "count  914351.000000  914351.000000  914351.000000  914351.000000   \n",
       "mean       40.737293     -73.971545      40.737232     -73.971505   \n",
       "min        40.633385     -74.026823      40.633385     -74.067622   \n",
       "25%        40.711863     -73.992031      40.710709     -73.992131   \n",
       "50%        40.736529     -73.979069      40.735877     -73.979504   \n",
       "75%        40.761294     -73.955156      40.761712     -73.955637   \n",
       "max        40.886300     -73.846720      40.886300     -73.846720   \n",
       "std         0.040808       0.029127       0.040934       0.029169   \n",
       "\n",
       "       RideDurationMin  \n",
       "count    914351.000000  \n",
       "mean         13.850795  \n",
       "min           3.000000  \n",
       "25%           6.262817  \n",
       "50%          10.169633  \n",
       "75%          17.048033  \n",
       "max         356.487733  \n",
       "std          13.311635  "
      ]
     },
     "execution_count": 166,
     "metadata": {},
     "output_type": "execute_result"
    }
   ],
   "source": [
    "df.describe()"
   ]
  },
  {
   "cell_type": "markdown",
   "id": "d11d8d33-6263-4885-922a-e1df3500c358",
   "metadata": {},
   "source": [
    "***\n",
    "## 3.) Saving Cleaned Data \n",
    "***"
   ]
  },
  {
   "cell_type": "code",
   "execution_count": null,
   "id": "320f92b4-bf6e-4407-97aa-0e906053e4d2",
   "metadata": {},
   "outputs": [],
   "source": [
    "df.to_csv('cleaned_citibike_oct2024.csv', index=False)"
   ]
  },
  {
   "cell_type": "markdown",
   "id": "58e94bab-42fe-480e-86f2-dfd4b7363cb2",
   "metadata": {},
   "source": [
    "***"
   ]
  }
 ],
 "metadata": {
  "kernelspec": {
   "display_name": "Python [conda env:base] *",
   "language": "python",
   "name": "conda-base-py"
  },
  "language_info": {
   "codemirror_mode": {
    "name": "ipython",
    "version": 3
   },
   "file_extension": ".py",
   "mimetype": "text/x-python",
   "name": "python",
   "nbconvert_exporter": "python",
   "pygments_lexer": "ipython3",
   "version": "3.12.7"
  }
 },
 "nbformat": 4,
 "nbformat_minor": 5
}
