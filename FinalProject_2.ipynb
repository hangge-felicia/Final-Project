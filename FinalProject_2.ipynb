{
 "cells": [
  {
   "cell_type": "markdown",
   "id": "c0170f13-b435-4c96-9143-cecfa7281002",
   "metadata": {
    "panel-layout": {
     "height": 156.9375,
     "visible": true,
     "width": 100
    }
   },
   "source": [
    "***\n",
    "# Final Project Milestone #2: Data Analysis\n",
    "### Felicia Faith Hangge\n",
    "### 22 April 2025\n",
    "\n",
    "#### Initial exploratory analysis for dataset.\n",
    "***"
   ]
  },
  {
   "cell_type": "markdown",
   "id": "e30ca148-1177-459d-b0d1-bba0aebb4ce0",
   "metadata": {
    "panel-layout": {
     "height": 84.40625,
     "visible": true,
     "width": 100
    }
   },
   "source": [
    "## 1.) Importing dataset and pands\n",
    "#### Dataset: NYC Citi Bike Trip History for October of 2024 "
   ]
  },
  {
   "cell_type": "code",
   "execution_count": 93,
   "id": "2ad0aba2-d12a-4455-a907-774a5b28ac6c",
   "metadata": {},
   "outputs": [],
   "source": [
    "import pandas as pd"
   ]
  },
  {
   "cell_type": "code",
   "execution_count": 94,
   "id": "61e74520-014c-4759-94a7-1b7855ac08d0",
   "metadata": {},
   "outputs": [
    {
     "name": "stderr",
     "output_type": "stream",
     "text": [
      "/var/folders/6t/l24_hh0d7rddqfw4j3qphcfw0000gn/T/ipykernel_88101/1791134792.py:2: DtypeWarning: Columns (5,7) have mixed types. Specify dtype option on import or set low_memory=False.\n",
      "  df = pd.read_csv('/Users/faitth/Desktop/CMP-262/Final Project/202410-citibike-tripdata_1.csv')\n"
     ]
    }
   ],
   "source": [
    "file_path = \"202410-citibike-tripdata_1.csv\"\n",
    "df = pd.read_csv('/Users/faitth/Desktop/CMP-262/Final Project/202410-citibike-tripdata_1.csv')"
   ]
  },
  {
   "cell_type": "markdown",
   "id": "e8a5fa80-0bd2-4430-aa8f-2fb5ce119dc1",
   "metadata": {},
   "source": [
    "***\n",
    "#### ***Citation: Internet Use*** \n",
    "\n",
    "##### Warning Error: \n",
    "DtypeWarning: Columns (5,7) have mixed types. Specify dtype option on import or set low_memory=False.                                       \n",
    "##### Source Used: \n",
    "https://pandas.pydata.org/docs/reference/api/pandas.errors.DtypeWarning.html\n",
    "##### Changes: \n",
    "\n",
    "1.) Specified specific columns (start_station_id and end_station_id) data type option to strings due to them containing mixed data types and set low memory to false.  \n",
    "\n",
    "***"
   ]
  },
  {
   "cell_type": "code",
   "execution_count": 96,
   "id": "5e76a880-f83b-49f7-88f4-4373277c4e26",
   "metadata": {},
   "outputs": [],
   "source": [
    "dt_fix = {\n",
    "    'start_station_id': 'str',\n",
    "    'end_station_id': 'str' }\n",
    "file_path = \"202410-citibike-tripdata_1.csv\"\n",
    "df = pd.read_csv('/Users/faitth/Desktop/CMP-262/Final Project/202410-citibike-tripdata_1.csv',\n",
    "                dtype = dt_fix,\n",
    "                low_memory=False)"
   ]
  },
  {
   "cell_type": "markdown",
   "id": "bd5bab67-a165-4253-8935-b001b869c714",
   "metadata": {},
   "source": [
    "***\n",
    "## 1.) Exploring basic properties of the dataset using pandas’ built-in functions\n",
    "#### displaying samples, column information, statistical information, and general information about the dataset."
   ]
  },
  {
   "cell_type": "code",
   "execution_count": 98,
   "id": "6151eade-2835-4237-a2a9-cd41ef086e2f",
   "metadata": {},
   "outputs": [
    {
     "data": {
      "text/html": [
       "<div>\n",
       "<style scoped>\n",
       "    .dataframe tbody tr th:only-of-type {\n",
       "        vertical-align: middle;\n",
       "    }\n",
       "\n",
       "    .dataframe tbody tr th {\n",
       "        vertical-align: top;\n",
       "    }\n",
       "\n",
       "    .dataframe thead th {\n",
       "        text-align: right;\n",
       "    }\n",
       "</style>\n",
       "<table border=\"1\" class=\"dataframe\">\n",
       "  <thead>\n",
       "    <tr style=\"text-align: right;\">\n",
       "      <th></th>\n",
       "      <th>ride_id</th>\n",
       "      <th>rideable_type</th>\n",
       "      <th>started_at</th>\n",
       "      <th>ended_at</th>\n",
       "      <th>start_station_name</th>\n",
       "      <th>start_station_id</th>\n",
       "      <th>end_station_name</th>\n",
       "      <th>end_station_id</th>\n",
       "      <th>start_lat</th>\n",
       "      <th>start_lng</th>\n",
       "      <th>end_lat</th>\n",
       "      <th>end_lng</th>\n",
       "      <th>member_casual</th>\n",
       "    </tr>\n",
       "  </thead>\n",
       "  <tbody>\n",
       "    <tr>\n",
       "      <th>0</th>\n",
       "      <td>B4544C93905FA10E</td>\n",
       "      <td>electric_bike</td>\n",
       "      <td>2024-10-13 17:38:36.748</td>\n",
       "      <td>2024-10-13 17:45:22.657</td>\n",
       "      <td>Rutgers St &amp; Henry St</td>\n",
       "      <td>5230.02</td>\n",
       "      <td>Lafayette St &amp; Grand St</td>\n",
       "      <td>5422.09</td>\n",
       "      <td>40.713322</td>\n",
       "      <td>-73.990097</td>\n",
       "      <td>40.720280</td>\n",
       "      <td>-73.998790</td>\n",
       "      <td>member</td>\n",
       "    </tr>\n",
       "    <tr>\n",
       "      <th>1</th>\n",
       "      <td>435860FFE89FC278</td>\n",
       "      <td>electric_bike</td>\n",
       "      <td>2024-10-06 00:58:33.042</td>\n",
       "      <td>2024-10-06 01:02:46.775</td>\n",
       "      <td>Washington Ave &amp; E 167 St</td>\n",
       "      <td>8068.01</td>\n",
       "      <td>College Ave &amp; E 170 St</td>\n",
       "      <td>8175.06</td>\n",
       "      <td>40.829896</td>\n",
       "      <td>-73.907618</td>\n",
       "      <td>40.837576</td>\n",
       "      <td>-73.910489</td>\n",
       "      <td>member</td>\n",
       "    </tr>\n",
       "    <tr>\n",
       "      <th>2</th>\n",
       "      <td>4EB0709C97181E8A</td>\n",
       "      <td>electric_bike</td>\n",
       "      <td>2024-10-11 21:15:40.455</td>\n",
       "      <td>2024-10-11 21:46:54.286</td>\n",
       "      <td>E Fordham Rd &amp; Webster Ave</td>\n",
       "      <td>8582.09</td>\n",
       "      <td>Jerome Ave &amp; E Mosholu Pkwy S</td>\n",
       "      <td>8795.01</td>\n",
       "      <td>40.861748</td>\n",
       "      <td>-73.891050</td>\n",
       "      <td>40.879350</td>\n",
       "      <td>-73.885340</td>\n",
       "      <td>member</td>\n",
       "    </tr>\n",
       "    <tr>\n",
       "      <th>3</th>\n",
       "      <td>930590FEA1806C34</td>\n",
       "      <td>electric_bike</td>\n",
       "      <td>2024-10-14 19:08:12.154</td>\n",
       "      <td>2024-10-14 19:30:24.011</td>\n",
       "      <td>Washington Ave &amp; E 167 St</td>\n",
       "      <td>8068.01</td>\n",
       "      <td>Frederick Douglass Blvd &amp; W 115 St</td>\n",
       "      <td>7658.13</td>\n",
       "      <td>40.829896</td>\n",
       "      <td>-73.907618</td>\n",
       "      <td>40.803865</td>\n",
       "      <td>-73.955931</td>\n",
       "      <td>casual</td>\n",
       "    </tr>\n",
       "    <tr>\n",
       "      <th>4</th>\n",
       "      <td>EA33E5FD386A60F4</td>\n",
       "      <td>electric_bike</td>\n",
       "      <td>2024-10-13 01:19:20.877</td>\n",
       "      <td>2024-10-13 01:29:47.343</td>\n",
       "      <td>E Fordham Rd &amp; Webster Ave</td>\n",
       "      <td>8582.09</td>\n",
       "      <td>Jerome Ave &amp; E Mosholu Pkwy S</td>\n",
       "      <td>8795.01</td>\n",
       "      <td>40.861748</td>\n",
       "      <td>-73.891050</td>\n",
       "      <td>40.879350</td>\n",
       "      <td>-73.885340</td>\n",
       "      <td>casual</td>\n",
       "    </tr>\n",
       "  </tbody>\n",
       "</table>\n",
       "</div>"
      ],
      "text/plain": [
       "            ride_id  rideable_type               started_at  \\\n",
       "0  B4544C93905FA10E  electric_bike  2024-10-13 17:38:36.748   \n",
       "1  435860FFE89FC278  electric_bike  2024-10-06 00:58:33.042   \n",
       "2  4EB0709C97181E8A  electric_bike  2024-10-11 21:15:40.455   \n",
       "3  930590FEA1806C34  electric_bike  2024-10-14 19:08:12.154   \n",
       "4  EA33E5FD386A60F4  electric_bike  2024-10-13 01:19:20.877   \n",
       "\n",
       "                  ended_at          start_station_name start_station_id  \\\n",
       "0  2024-10-13 17:45:22.657       Rutgers St & Henry St          5230.02   \n",
       "1  2024-10-06 01:02:46.775   Washington Ave & E 167 St          8068.01   \n",
       "2  2024-10-11 21:46:54.286  E Fordham Rd & Webster Ave          8582.09   \n",
       "3  2024-10-14 19:30:24.011   Washington Ave & E 167 St          8068.01   \n",
       "4  2024-10-13 01:29:47.343  E Fordham Rd & Webster Ave          8582.09   \n",
       "\n",
       "                     end_station_name end_station_id  start_lat  start_lng  \\\n",
       "0             Lafayette St & Grand St        5422.09  40.713322 -73.990097   \n",
       "1              College Ave & E 170 St        8175.06  40.829896 -73.907618   \n",
       "2       Jerome Ave & E Mosholu Pkwy S        8795.01  40.861748 -73.891050   \n",
       "3  Frederick Douglass Blvd & W 115 St        7658.13  40.829896 -73.907618   \n",
       "4       Jerome Ave & E Mosholu Pkwy S        8795.01  40.861748 -73.891050   \n",
       "\n",
       "     end_lat    end_lng member_casual  \n",
       "0  40.720280 -73.998790        member  \n",
       "1  40.837576 -73.910489        member  \n",
       "2  40.879350 -73.885340        member  \n",
       "3  40.803865 -73.955931        casual  \n",
       "4  40.879350 -73.885340        casual  "
      ]
     },
     "execution_count": 98,
     "metadata": {},
     "output_type": "execute_result"
    }
   ],
   "source": [
    "df.head()"
   ]
  },
  {
   "cell_type": "code",
   "execution_count": 99,
   "id": "c4d5cb73-b126-4749-939e-b8fbbf6b09ce",
   "metadata": {},
   "outputs": [
    {
     "data": {
      "text/html": [
       "<div>\n",
       "<style scoped>\n",
       "    .dataframe tbody tr th:only-of-type {\n",
       "        vertical-align: middle;\n",
       "    }\n",
       "\n",
       "    .dataframe tbody tr th {\n",
       "        vertical-align: top;\n",
       "    }\n",
       "\n",
       "    .dataframe thead th {\n",
       "        text-align: right;\n",
       "    }\n",
       "</style>\n",
       "<table border=\"1\" class=\"dataframe\">\n",
       "  <thead>\n",
       "    <tr style=\"text-align: right;\">\n",
       "      <th></th>\n",
       "      <th>start_lat</th>\n",
       "      <th>start_lng</th>\n",
       "      <th>end_lat</th>\n",
       "      <th>end_lng</th>\n",
       "    </tr>\n",
       "  </thead>\n",
       "  <tbody>\n",
       "    <tr>\n",
       "      <th>count</th>\n",
       "      <td>1000000.000000</td>\n",
       "      <td>1000000.000000</td>\n",
       "      <td>999896.000000</td>\n",
       "      <td>999896.000000</td>\n",
       "    </tr>\n",
       "    <tr>\n",
       "      <th>mean</th>\n",
       "      <td>40.737577</td>\n",
       "      <td>-73.971093</td>\n",
       "      <td>40.736915</td>\n",
       "      <td>-73.969946</td>\n",
       "    </tr>\n",
       "    <tr>\n",
       "      <th>std</th>\n",
       "      <td>0.041225</td>\n",
       "      <td>0.029450</td>\n",
       "      <td>0.163109</td>\n",
       "      <td>0.288015</td>\n",
       "    </tr>\n",
       "    <tr>\n",
       "      <th>min</th>\n",
       "      <td>40.633385</td>\n",
       "      <td>-74.026823</td>\n",
       "      <td>0.000000</td>\n",
       "      <td>-74.130000</td>\n",
       "    </tr>\n",
       "    <tr>\n",
       "      <th>25%</th>\n",
       "      <td>40.711863</td>\n",
       "      <td>-73.991930</td>\n",
       "      <td>40.711066</td>\n",
       "      <td>-73.992085</td>\n",
       "    </tr>\n",
       "    <tr>\n",
       "      <th>50%</th>\n",
       "      <td>40.736592</td>\n",
       "      <td>-73.979069</td>\n",
       "      <td>40.736245</td>\n",
       "      <td>-73.979294</td>\n",
       "    </tr>\n",
       "    <tr>\n",
       "      <th>75%</th>\n",
       "      <td>40.761573</td>\n",
       "      <td>-73.954692</td>\n",
       "      <td>40.761712</td>\n",
       "      <td>-73.954926</td>\n",
       "    </tr>\n",
       "    <tr>\n",
       "      <th>max</th>\n",
       "      <td>40.900000</td>\n",
       "      <td>-73.846720</td>\n",
       "      <td>41.010000</td>\n",
       "      <td>0.000000</td>\n",
       "    </tr>\n",
       "  </tbody>\n",
       "</table>\n",
       "</div>"
      ],
      "text/plain": [
       "            start_lat       start_lng        end_lat        end_lng\n",
       "count  1000000.000000  1000000.000000  999896.000000  999896.000000\n",
       "mean        40.737577      -73.971093      40.736915     -73.969946\n",
       "std          0.041225        0.029450       0.163109       0.288015\n",
       "min         40.633385      -74.026823       0.000000     -74.130000\n",
       "25%         40.711863      -73.991930      40.711066     -73.992085\n",
       "50%         40.736592      -73.979069      40.736245     -73.979294\n",
       "75%         40.761573      -73.954692      40.761712     -73.954926\n",
       "max         40.900000      -73.846720      41.010000       0.000000"
      ]
     },
     "execution_count": 99,
     "metadata": {},
     "output_type": "execute_result"
    }
   ],
   "source": [
    "df.describe()"
   ]
  },
  {
   "cell_type": "code",
   "execution_count": 100,
   "id": "20788681-71bc-40b5-8448-0123522806a9",
   "metadata": {},
   "outputs": [
    {
     "data": {
      "text/plain": [
       "['ride_id',\n",
       " 'rideable_type',\n",
       " 'started_at',\n",
       " 'ended_at',\n",
       " 'start_station_name',\n",
       " 'start_station_id',\n",
       " 'end_station_name',\n",
       " 'end_station_id',\n",
       " 'start_lat',\n",
       " 'start_lng',\n",
       " 'end_lat',\n",
       " 'end_lng',\n",
       " 'member_casual']"
      ]
     },
     "execution_count": 100,
     "metadata": {},
     "output_type": "execute_result"
    }
   ],
   "source": [
    "df.columns.tolist()"
   ]
  },
  {
   "cell_type": "code",
   "execution_count": 101,
   "id": "51d87117-3ff9-4118-a88e-3f32fa29d7c4",
   "metadata": {},
   "outputs": [
    {
     "data": {
      "text/plain": [
       "(1000000, 13)"
      ]
     },
     "execution_count": 101,
     "metadata": {},
     "output_type": "execute_result"
    }
   ],
   "source": [
    "df.shape"
   ]
  },
  {
   "cell_type": "code",
   "execution_count": 102,
   "id": "5f0ead81-aebb-41d8-94f6-742d3acc109b",
   "metadata": {},
   "outputs": [
    {
     "data": {
      "text/plain": [
       "ride_id                object\n",
       "rideable_type          object\n",
       "started_at             object\n",
       "ended_at               object\n",
       "start_station_name     object\n",
       "start_station_id       object\n",
       "end_station_name       object\n",
       "end_station_id         object\n",
       "start_lat             float64\n",
       "start_lng             float64\n",
       "end_lat               float64\n",
       "end_lng               float64\n",
       "member_casual          object\n",
       "dtype: object"
      ]
     },
     "execution_count": 102,
     "metadata": {},
     "output_type": "execute_result"
    }
   ],
   "source": [
    "df.dtypes"
   ]
  },
  {
   "cell_type": "code",
   "execution_count": 103,
   "id": "2f9da2bb-6055-420d-b2bb-b4b4b6e0a5df",
   "metadata": {},
   "outputs": [
    {
     "data": {
      "text/html": [
       "<div>\n",
       "<style scoped>\n",
       "    .dataframe tbody tr th:only-of-type {\n",
       "        vertical-align: middle;\n",
       "    }\n",
       "\n",
       "    .dataframe tbody tr th {\n",
       "        vertical-align: top;\n",
       "    }\n",
       "\n",
       "    .dataframe thead th {\n",
       "        text-align: right;\n",
       "    }\n",
       "</style>\n",
       "<table border=\"1\" class=\"dataframe\">\n",
       "  <thead>\n",
       "    <tr style=\"text-align: right;\">\n",
       "      <th></th>\n",
       "      <th>ride_id</th>\n",
       "      <th>rideable_type</th>\n",
       "      <th>started_at</th>\n",
       "      <th>ended_at</th>\n",
       "      <th>start_station_name</th>\n",
       "      <th>start_station_id</th>\n",
       "      <th>end_station_name</th>\n",
       "      <th>end_station_id</th>\n",
       "      <th>start_lat</th>\n",
       "      <th>start_lng</th>\n",
       "      <th>end_lat</th>\n",
       "      <th>end_lng</th>\n",
       "      <th>member_casual</th>\n",
       "    </tr>\n",
       "  </thead>\n",
       "  <tbody>\n",
       "    <tr>\n",
       "      <th>999995</th>\n",
       "      <td>F60D8345DF7DA010</td>\n",
       "      <td>electric_bike</td>\n",
       "      <td>2024-10-08 07:07:37.902</td>\n",
       "      <td>2024-10-08 07:18:02.742</td>\n",
       "      <td>W 56 St &amp; 10 Ave</td>\n",
       "      <td>6955.01</td>\n",
       "      <td>E 53 St &amp; Lexington Ave</td>\n",
       "      <td>6617.09</td>\n",
       "      <td>40.768254</td>\n",
       "      <td>-73.988639</td>\n",
       "      <td>40.758281</td>\n",
       "      <td>-73.970694</td>\n",
       "      <td>member</td>\n",
       "    </tr>\n",
       "    <tr>\n",
       "      <th>999996</th>\n",
       "      <td>A7B575626177E70D</td>\n",
       "      <td>electric_bike</td>\n",
       "      <td>2024-10-12 12:42:05.626</td>\n",
       "      <td>2024-10-12 12:48:02.445</td>\n",
       "      <td>Lexington Ave &amp; Classon Ave</td>\n",
       "      <td>4452.03</td>\n",
       "      <td>Adelphi St &amp; Myrtle Ave</td>\n",
       "      <td>4620.02</td>\n",
       "      <td>40.686768</td>\n",
       "      <td>-73.959282</td>\n",
       "      <td>40.693083</td>\n",
       "      <td>-73.971789</td>\n",
       "      <td>member</td>\n",
       "    </tr>\n",
       "    <tr>\n",
       "      <th>999997</th>\n",
       "      <td>F146E98E4C5C3927</td>\n",
       "      <td>electric_bike</td>\n",
       "      <td>2024-10-04 07:34:13.461</td>\n",
       "      <td>2024-10-04 07:40:00.079</td>\n",
       "      <td>University Ave &amp; Brandt Pl</td>\n",
       "      <td>8366.07</td>\n",
       "      <td>Wadsworth Ave &amp; W 179 St</td>\n",
       "      <td>8336.02</td>\n",
       "      <td>40.848354</td>\n",
       "      <td>-73.918389</td>\n",
       "      <td>40.848467</td>\n",
       "      <td>-73.936064</td>\n",
       "      <td>member</td>\n",
       "    </tr>\n",
       "    <tr>\n",
       "      <th>999998</th>\n",
       "      <td>08E47660A572FDE7</td>\n",
       "      <td>electric_bike</td>\n",
       "      <td>2024-10-01 07:04:32.165</td>\n",
       "      <td>2024-10-01 07:09:27.746</td>\n",
       "      <td>Bond St &amp; Bergen St</td>\n",
       "      <td>4404.10</td>\n",
       "      <td>Court St &amp; State St</td>\n",
       "      <td>4488.08</td>\n",
       "      <td>40.684967</td>\n",
       "      <td>-73.986208</td>\n",
       "      <td>40.690238</td>\n",
       "      <td>-73.992031</td>\n",
       "      <td>member</td>\n",
       "    </tr>\n",
       "    <tr>\n",
       "      <th>999999</th>\n",
       "      <td>9F457344CDC10B2F</td>\n",
       "      <td>electric_bike</td>\n",
       "      <td>2024-10-03 07:25:09.077</td>\n",
       "      <td>2024-10-03 07:30:50.476</td>\n",
       "      <td>University Ave &amp; Brandt Pl</td>\n",
       "      <td>8366.07</td>\n",
       "      <td>Wadsworth Ave &amp; W 179 St</td>\n",
       "      <td>8336.02</td>\n",
       "      <td>40.848354</td>\n",
       "      <td>-73.918389</td>\n",
       "      <td>40.848467</td>\n",
       "      <td>-73.936064</td>\n",
       "      <td>member</td>\n",
       "    </tr>\n",
       "  </tbody>\n",
       "</table>\n",
       "</div>"
      ],
      "text/plain": [
       "                 ride_id  rideable_type               started_at  \\\n",
       "999995  F60D8345DF7DA010  electric_bike  2024-10-08 07:07:37.902   \n",
       "999996  A7B575626177E70D  electric_bike  2024-10-12 12:42:05.626   \n",
       "999997  F146E98E4C5C3927  electric_bike  2024-10-04 07:34:13.461   \n",
       "999998  08E47660A572FDE7  electric_bike  2024-10-01 07:04:32.165   \n",
       "999999  9F457344CDC10B2F  electric_bike  2024-10-03 07:25:09.077   \n",
       "\n",
       "                       ended_at           start_station_name start_station_id  \\\n",
       "999995  2024-10-08 07:18:02.742             W 56 St & 10 Ave          6955.01   \n",
       "999996  2024-10-12 12:48:02.445  Lexington Ave & Classon Ave          4452.03   \n",
       "999997  2024-10-04 07:40:00.079   University Ave & Brandt Pl          8366.07   \n",
       "999998  2024-10-01 07:09:27.746          Bond St & Bergen St          4404.10   \n",
       "999999  2024-10-03 07:30:50.476   University Ave & Brandt Pl          8366.07   \n",
       "\n",
       "                end_station_name end_station_id  start_lat  start_lng  \\\n",
       "999995   E 53 St & Lexington Ave        6617.09  40.768254 -73.988639   \n",
       "999996   Adelphi St & Myrtle Ave        4620.02  40.686768 -73.959282   \n",
       "999997  Wadsworth Ave & W 179 St        8336.02  40.848354 -73.918389   \n",
       "999998       Court St & State St        4488.08  40.684967 -73.986208   \n",
       "999999  Wadsworth Ave & W 179 St        8336.02  40.848354 -73.918389   \n",
       "\n",
       "          end_lat    end_lng member_casual  \n",
       "999995  40.758281 -73.970694        member  \n",
       "999996  40.693083 -73.971789        member  \n",
       "999997  40.848467 -73.936064        member  \n",
       "999998  40.690238 -73.992031        member  \n",
       "999999  40.848467 -73.936064        member  "
      ]
     },
     "execution_count": 103,
     "metadata": {},
     "output_type": "execute_result"
    }
   ],
   "source": [
    "df.tail()"
   ]
  },
  {
   "cell_type": "code",
   "execution_count": 104,
   "id": "12023ced-6a7e-4beb-9c17-5e8ff8e0ce90",
   "metadata": {},
   "outputs": [
    {
     "data": {
      "text/html": [
       "<div>\n",
       "<style scoped>\n",
       "    .dataframe tbody tr th:only-of-type {\n",
       "        vertical-align: middle;\n",
       "    }\n",
       "\n",
       "    .dataframe tbody tr th {\n",
       "        vertical-align: top;\n",
       "    }\n",
       "\n",
       "    .dataframe thead th {\n",
       "        text-align: right;\n",
       "    }\n",
       "</style>\n",
       "<table border=\"1\" class=\"dataframe\">\n",
       "  <thead>\n",
       "    <tr style=\"text-align: right;\">\n",
       "      <th></th>\n",
       "      <th>ride_id</th>\n",
       "      <th>rideable_type</th>\n",
       "      <th>started_at</th>\n",
       "      <th>ended_at</th>\n",
       "      <th>start_station_name</th>\n",
       "      <th>start_station_id</th>\n",
       "      <th>end_station_name</th>\n",
       "      <th>end_station_id</th>\n",
       "      <th>start_lat</th>\n",
       "      <th>start_lng</th>\n",
       "      <th>end_lat</th>\n",
       "      <th>end_lng</th>\n",
       "      <th>member_casual</th>\n",
       "    </tr>\n",
       "  </thead>\n",
       "  <tbody>\n",
       "    <tr>\n",
       "      <th>87526</th>\n",
       "      <td>80D3DA512FE72649</td>\n",
       "      <td>electric_bike</td>\n",
       "      <td>2024-10-06 13:42:23.384</td>\n",
       "      <td>2024-10-06 14:55:55.704</td>\n",
       "      <td>7 Ave &amp; Central Park South</td>\n",
       "      <td>6912.01</td>\n",
       "      <td>Main St &amp; Plymouth St</td>\n",
       "      <td>4936.21</td>\n",
       "      <td>40.766741</td>\n",
       "      <td>-73.979069</td>\n",
       "      <td>40.703782</td>\n",
       "      <td>-73.990734</td>\n",
       "      <td>casual</td>\n",
       "    </tr>\n",
       "  </tbody>\n",
       "</table>\n",
       "</div>"
      ],
      "text/plain": [
       "                ride_id  rideable_type               started_at  \\\n",
       "87526  80D3DA512FE72649  electric_bike  2024-10-06 13:42:23.384   \n",
       "\n",
       "                      ended_at          start_station_name start_station_id  \\\n",
       "87526  2024-10-06 14:55:55.704  7 Ave & Central Park South          6912.01   \n",
       "\n",
       "            end_station_name end_station_id  start_lat  start_lng    end_lat  \\\n",
       "87526  Main St & Plymouth St        4936.21  40.766741 -73.979069  40.703782   \n",
       "\n",
       "         end_lng member_casual  \n",
       "87526 -73.990734        casual  "
      ]
     },
     "execution_count": 104,
     "metadata": {},
     "output_type": "execute_result"
    }
   ],
   "source": [
    "df.sample()"
   ]
  },
  {
   "cell_type": "code",
   "execution_count": 105,
   "id": "c28d0a83-6755-45dd-91d5-ce130ff1204e",
   "metadata": {},
   "outputs": [
    {
     "name": "stdout",
     "output_type": "stream",
     "text": [
      "<class 'pandas.core.frame.DataFrame'>\n",
      "RangeIndex: 1000000 entries, 0 to 999999\n",
      "Data columns (total 13 columns):\n",
      " #   Column              Non-Null Count    Dtype  \n",
      "---  ------              --------------    -----  \n",
      " 0   ride_id             1000000 non-null  object \n",
      " 1   rideable_type       1000000 non-null  object \n",
      " 2   started_at          1000000 non-null  object \n",
      " 3   ended_at            1000000 non-null  object \n",
      " 4   start_station_name  999717 non-null   object \n",
      " 5   start_station_id    999717 non-null   object \n",
      " 6   end_station_name    998659 non-null   object \n",
      " 7   end_station_id      998540 non-null   object \n",
      " 8   start_lat           1000000 non-null  float64\n",
      " 9   start_lng           1000000 non-null  float64\n",
      " 10  end_lat             999896 non-null   float64\n",
      " 11  end_lng             999896 non-null   float64\n",
      " 12  member_casual       1000000 non-null  object \n",
      "dtypes: float64(4), object(9)\n",
      "memory usage: 99.2+ MB\n"
     ]
    }
   ],
   "source": [
    "df.info()"
   ]
  },
  {
   "cell_type": "markdown",
   "id": "50269e34-8f08-4962-848f-228e635a8a45",
   "metadata": {},
   "source": [
    "***\n",
    "## 2.) Further exploration of useful basic properties to further understand the dataset. \n",
    "#### exploring missing values, unique values, data range, checking for duplicates."
   ]
  },
  {
   "cell_type": "code",
   "execution_count": 107,
   "id": "c33b87e4-a750-43a5-80c6-9e9594c2703d",
   "metadata": {},
   "outputs": [
    {
     "data": {
      "text/plain": [
       "ride_id                  0\n",
       "rideable_type            0\n",
       "started_at               0\n",
       "ended_at                 0\n",
       "start_station_name     283\n",
       "start_station_id       283\n",
       "end_station_name      1341\n",
       "end_station_id        1460\n",
       "start_lat                0\n",
       "start_lng                0\n",
       "end_lat                104\n",
       "end_lng                104\n",
       "member_casual            0\n",
       "dtype: int64"
      ]
     },
     "execution_count": 107,
     "metadata": {},
     "output_type": "execute_result"
    }
   ],
   "source": [
    "### exploring missing values in order to see which columns may need cleaning/filling in\n",
    "df.isnull().sum()"
   ]
  },
  {
   "cell_type": "code",
   "execution_count": 108,
   "id": "bfcb573c-4a2a-4eea-8488-4f4f96cd8a45",
   "metadata": {},
   "outputs": [
    {
     "data": {
      "text/plain": [
       "ride_id               1000000\n",
       "rideable_type               2\n",
       "started_at             999300\n",
       "ended_at               999282\n",
       "start_station_name       2128\n",
       "start_station_id         2222\n",
       "end_station_name         2141\n",
       "end_station_id           2147\n",
       "start_lat                2154\n",
       "start_lng                2144\n",
       "end_lat                  2159\n",
       "end_lng                  2150\n",
       "member_casual               2\n",
       "dtype: int64"
      ]
     },
     "execution_count": 108,
     "metadata": {},
     "output_type": "execute_result"
    }
   ],
   "source": [
    "### understanding which columns are used as identifiers and which arent\n",
    "df.nunique()"
   ]
  },
  {
   "cell_type": "code",
   "execution_count": 109,
   "id": "6ada15d6-b70c-4013-b4f4-1f30bf0603c5",
   "metadata": {},
   "outputs": [
    {
     "name": "stdout",
     "output_type": "stream",
     "text": [
      "Start date: 2024-09-29 23:44:44.862000\n",
      "End date: 2024-10-15 18:10:34.393000\n"
     ]
    }
   ],
   "source": [
    "### looking at data range and checking the time period the data covers. \n",
    "\n",
    "df['started_at'] = pd.to_datetime(df['started_at'])\n",
    "df['ended_at'] = pd.to_datetime(df['ended_at'])\n",
    "\n",
    "print(\"Start date:\", df['started_at'].min())\n",
    "print(\"End date:\", df['ended_at'].max())\n",
    "\n",
    "### reveals that dataset only contains data for the first two weeks of October."
   ]
  },
  {
   "cell_type": "code",
   "execution_count": 110,
   "id": "2253a119-6ab5-434c-83d6-ca186fa0aa6f",
   "metadata": {},
   "outputs": [
    {
     "data": {
      "text/plain": [
       "0"
      ]
     },
     "execution_count": 110,
     "metadata": {},
     "output_type": "execute_result"
    }
   ],
   "source": [
    "### checking for any duplicates to ensure data quality\n",
    "df.duplicated().sum()"
   ]
  },
  {
   "cell_type": "markdown",
   "id": "e1d201bb-6ac0-47b9-93f9-53b1966a1e6f",
   "metadata": {},
   "source": [
    "***"
   ]
  }
 ],
 "metadata": {
  "kernelspec": {
   "display_name": "Python [conda env:base] *",
   "language": "python",
   "name": "conda-base-py"
  },
  "language_info": {
   "codemirror_mode": {
    "name": "ipython",
    "version": 3
   },
   "file_extension": ".py",
   "mimetype": "text/x-python",
   "name": "python",
   "nbconvert_exporter": "python",
   "pygments_lexer": "ipython3",
   "version": "3.12.7"
  },
  "panel-cell-order": [
   "c0170f13-b435-4c96-9143-cecfa7281002",
   "e30ca148-1177-459d-b0d1-bba0aebb4ce0",
   "629c9dbb-8aff-433f-b552-f543d0705593",
   "d962be80-c2dd-4c22-94b4-e50000aee4b9",
   "a7e07c7e-846e-42af-94dc-6eba4359cd78",
   "f7fa726a-70b7-4164-bca1-fb7be0632bed",
   "88ba3f08-b3eb-46bd-b84d-103df6704ecb",
   "56b0e32a-9251-4721-a16c-4e04c4ca68a1",
   "b0be7b5d-fa9d-451f-9a59-3cc173738042",
   "aab71d21-42f3-4ded-a5be-a486bcc9b81e",
   "b1852720-8374-4a02-a1cd-8855c795af95",
   "4d5ec51b-fed0-40cf-93a4-62f6be71d36d",
   "74768e9a-d860-4d63-afcc-1f1f2ba7a669",
   "1e33aa76-f61d-4237-a3dd-0876824e8958",
   "ebc42f9f-b3dc-40e4-b3a6-a84c723a0004",
   "010a4eab-f69b-4cd2-8d34-488e9f9dac34",
   "04960587-5501-4fc5-b5e0-34030cddf158",
   "683af403-972a-463b-9c55-7dcca0d63cfc",
   "a6971871-8a6a-4ca5-b914-46aa090cd8c3",
   "856ce8c2-b5b1-4787-9497-e2ba95c8858b",
   "4e9114ec-7d21-459c-9f7d-aa98a719a5b2",
   "26c049cc-241b-4edc-a3c5-62c44ef3c687",
   "221624d7-b68d-4042-b80f-e055d604cd63",
   "cfcd924b-240b-4d99-8bb0-0f2745deac28",
   "2bc0cda4-2206-44c2-a59c-23189ea3944e",
   "5b306d9d-87d9-4eee-84bc-272f9a5294cf"
  ]
 },
 "nbformat": 4,
 "nbformat_minor": 5
}
